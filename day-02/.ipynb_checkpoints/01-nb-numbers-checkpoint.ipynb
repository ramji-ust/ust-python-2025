{
 "cells": [
  {
   "cell_type": "code",
   "execution_count": 3,
   "id": "278b1232-e547-4fb5-854e-c8c15acea80f",
   "metadata": {},
   "outputs": [
    {
     "name": "stdout",
     "output_type": "stream",
     "text": [
      "Hello Jupyter Notebook - UST, IN!\n"
     ]
    }
   ],
   "source": [
    "print(\"Hello Jupyter Notebook - UST, IN!\")"
   ]
  },
  {
   "cell_type": "markdown",
   "id": "c9d4b51c-5a93-4611-96d9-146b1c6ce182",
   "metadata": {},
   "source": [
    "### Python Work"
   ]
  },
  {
   "cell_type": "markdown",
   "id": "a180fef9-f956-4830-9866-223236ee74ca",
   "metadata": {},
   "source": [
    "This is my first Jupyter Notebook"
   ]
  },
  {
   "cell_type": "markdown",
   "id": "c2432a86-3714-4d2f-baa2-c8fda29a1f51",
   "metadata": {},
   "source": [
    "### 1.1 Support for Numeric values in python"
   ]
  },
  {
   "cell_type": "code",
   "execution_count": 7,
   "id": "1dc9374d-9315-4147-9e79-09bd2cf1cf4a",
   "metadata": {},
   "outputs": [],
   "source": [
    "a = 10"
   ]
  },
  {
   "cell_type": "code",
   "execution_count": 8,
   "id": "d5d125af-1238-4d4e-9cba-c64263d2228d",
   "metadata": {},
   "outputs": [],
   "source": [
    "b = 34.678"
   ]
  },
  {
   "cell_type": "code",
   "execution_count": 9,
   "id": "d803bd35-d4b2-4dfc-ade1-d84df52d33df",
   "metadata": {},
   "outputs": [
    {
     "name": "stdout",
     "output_type": "stream",
     "text": [
      "10 34.678\n"
     ]
    }
   ],
   "source": [
    "print(a, b)"
   ]
  },
  {
   "cell_type": "code",
   "execution_count": 10,
   "id": "bfbee65d-a0c4-457a-9917-ae3ec8242d29",
   "metadata": {},
   "outputs": [
    {
     "data": {
      "text/plain": [
       "10"
      ]
     },
     "execution_count": 10,
     "metadata": {},
     "output_type": "execute_result"
    }
   ],
   "source": [
    "a"
   ]
  },
  {
   "cell_type": "code",
   "execution_count": 11,
   "id": "de147733-134e-4e85-af25-83fb73e007dc",
   "metadata": {},
   "outputs": [
    {
     "data": {
      "text/plain": [
       "int"
      ]
     },
     "execution_count": 11,
     "metadata": {},
     "output_type": "execute_result"
    }
   ],
   "source": [
    "type(a)"
   ]
  },
  {
   "cell_type": "code",
   "execution_count": 12,
   "id": "d5d72ef2-0f1b-45dd-a1cc-3eac25e7d691",
   "metadata": {},
   "outputs": [
    {
     "data": {
      "text/plain": [
       "float"
      ]
     },
     "execution_count": 12,
     "metadata": {},
     "output_type": "execute_result"
    }
   ],
   "source": [
    "type(b)"
   ]
  },
  {
   "cell_type": "code",
   "execution_count": 13,
   "id": "a57bab19-c88a-4305-bb08-cf6557dfdb02",
   "metadata": {},
   "outputs": [],
   "source": [
    "c = 2 + 3j"
   ]
  },
  {
   "cell_type": "code",
   "execution_count": 14,
   "id": "0ebcb74d-f9c5-49d8-a28e-aaf6827e7583",
   "metadata": {},
   "outputs": [
    {
     "data": {
      "text/plain": [
       "complex"
      ]
     },
     "execution_count": 14,
     "metadata": {},
     "output_type": "execute_result"
    }
   ],
   "source": [
    "type(c)"
   ]
  },
  {
   "cell_type": "markdown",
   "id": "93e2f081-b94d-40e5-8478-f1713ff70598",
   "metadata": {},
   "source": [
    "### 1.2 Operators for processing numeric values"
   ]
  },
  {
   "cell_type": "markdown",
   "id": "f731d555-5c60-4b3e-a8b3-61d91b7ead1c",
   "metadata": {},
   "source": [
    "##### Arithmetic Operators: + - * / // % **"
   ]
  },
  {
   "cell_type": "code",
   "execution_count": 16,
   "id": "7e6d862d-20e3-49ef-9c98-7e91172fda5a",
   "metadata": {},
   "outputs": [],
   "source": [
    "a = 10\n",
    "b = 4"
   ]
  },
  {
   "cell_type": "code",
   "execution_count": 18,
   "id": "2284d16c-8048-435d-b60e-c5b7387ea871",
   "metadata": {},
   "outputs": [
    {
     "name": "stdout",
     "output_type": "stream",
     "text": [
      "14\n"
     ]
    }
   ],
   "source": [
    "v = a + b\n",
    "print(v)"
   ]
  },
  {
   "cell_type": "code",
   "execution_count": 20,
   "id": "dd91ddc5-a9c4-443b-8568-2ecb68825d6b",
   "metadata": {},
   "outputs": [
    {
     "data": {
      "text/plain": [
       "6"
      ]
     },
     "execution_count": 20,
     "metadata": {},
     "output_type": "execute_result"
    }
   ],
   "source": [
    "a - b"
   ]
  },
  {
   "cell_type": "code",
   "execution_count": 21,
   "id": "790f1d02-8c5a-42e6-83fa-c10574fccb90",
   "metadata": {},
   "outputs": [
    {
     "data": {
      "text/plain": [
       "40"
      ]
     },
     "execution_count": 21,
     "metadata": {},
     "output_type": "execute_result"
    }
   ],
   "source": [
    "a * b"
   ]
  },
  {
   "cell_type": "code",
   "execution_count": 22,
   "id": "637853a4-0d16-4620-a336-36aefdeaa204",
   "metadata": {},
   "outputs": [
    {
     "data": {
      "text/plain": [
       "2.5"
      ]
     },
     "execution_count": 22,
     "metadata": {},
     "output_type": "execute_result"
    }
   ],
   "source": [
    "a / b"
   ]
  },
  {
   "cell_type": "code",
   "execution_count": 23,
   "id": "212c8425-671d-41ce-8157-6a0d28c212de",
   "metadata": {},
   "outputs": [
    {
     "data": {
      "text/plain": [
       "2"
      ]
     },
     "execution_count": 23,
     "metadata": {},
     "output_type": "execute_result"
    }
   ],
   "source": [
    "a // b"
   ]
  },
  {
   "cell_type": "code",
   "execution_count": 24,
   "id": "4e89d216-335f-4383-8685-7cdf0b27c7f6",
   "metadata": {},
   "outputs": [
    {
     "data": {
      "text/plain": [
       "1"
      ]
     },
     "execution_count": 24,
     "metadata": {},
     "output_type": "execute_result"
    }
   ],
   "source": [
    "12 // 8"
   ]
  },
  {
   "cell_type": "code",
   "execution_count": 25,
   "id": "5743b143-d27e-4743-aa67-b2504c8bfbe0",
   "metadata": {},
   "outputs": [
    {
     "data": {
      "text/plain": [
       "2"
      ]
     },
     "execution_count": 25,
     "metadata": {},
     "output_type": "execute_result"
    }
   ],
   "source": [
    "a % b"
   ]
  },
  {
   "cell_type": "code",
   "execution_count": 26,
   "id": "1df855fe-fd90-42ad-b910-d3fda67a9ae1",
   "metadata": {},
   "outputs": [
    {
     "data": {
      "text/plain": [
       "4"
      ]
     },
     "execution_count": 26,
     "metadata": {},
     "output_type": "execute_result"
    }
   ],
   "source": [
    "12 % 8"
   ]
  },
  {
   "cell_type": "code",
   "execution_count": 27,
   "id": "d3eae1f6-7a1b-49b4-8be9-7518c67c3add",
   "metadata": {},
   "outputs": [
    {
     "data": {
      "text/plain": [
       "10000"
      ]
     },
     "execution_count": 27,
     "metadata": {},
     "output_type": "execute_result"
    }
   ],
   "source": [
    "a ** b"
   ]
  },
  {
   "cell_type": "code",
   "execution_count": 29,
   "id": "04176d80-985a-4b56-83e6-8debe023b650",
   "metadata": {},
   "outputs": [
    {
     "data": {
      "text/plain": [
       "44"
      ]
     },
     "execution_count": 29,
     "metadata": {},
     "output_type": "execute_result"
    }
   ],
   "source": [
    "exp = (a * b) + ( a// b) ** 2\n",
    "exp"
   ]
  },
  {
   "cell_type": "markdown",
   "id": "ac0a27ab-db4f-4a9c-a913-27ab50a7e864",
   "metadata": {},
   "source": [
    "##### Relational Operators: > < >= <= !="
   ]
  },
  {
   "cell_type": "code",
   "execution_count": 30,
   "id": "447e7a2d-11f7-4116-9a35-2202a5699602",
   "metadata": {},
   "outputs": [
    {
     "data": {
      "text/plain": [
       "False"
      ]
     },
     "execution_count": 30,
     "metadata": {},
     "output_type": "execute_result"
    }
   ],
   "source": [
    "a == b # is a equal to b"
   ]
  },
  {
   "cell_type": "code",
   "execution_count": 31,
   "id": "7d8c1208-87dc-4631-bebe-f313ce1707b7",
   "metadata": {},
   "outputs": [
    {
     "data": {
      "text/plain": [
       "False"
      ]
     },
     "execution_count": 31,
     "metadata": {},
     "output_type": "execute_result"
    }
   ],
   "source": [
    "a < b"
   ]
  },
  {
   "cell_type": "code",
   "execution_count": 32,
   "id": "909708f9-6322-4ece-aff5-cb80ce124c3c",
   "metadata": {},
   "outputs": [
    {
     "data": {
      "text/plain": [
       "True"
      ]
     },
     "execution_count": 32,
     "metadata": {},
     "output_type": "execute_result"
    }
   ],
   "source": [
    "a > b"
   ]
  },
  {
   "cell_type": "code",
   "execution_count": 33,
   "id": "337ef13e-517c-4199-bf14-4d07b37fcb73",
   "metadata": {},
   "outputs": [
    {
     "data": {
      "text/plain": [
       "False"
      ]
     },
     "execution_count": 33,
     "metadata": {},
     "output_type": "execute_result"
    }
   ],
   "source": [
    "a <= b"
   ]
  },
  {
   "cell_type": "code",
   "execution_count": 34,
   "id": "c0aa954b-3a49-4968-ba3b-e06c87f36840",
   "metadata": {},
   "outputs": [
    {
     "data": {
      "text/plain": [
       "True"
      ]
     },
     "execution_count": 34,
     "metadata": {},
     "output_type": "execute_result"
    }
   ],
   "source": [
    "a >= b"
   ]
  },
  {
   "cell_type": "code",
   "execution_count": 35,
   "id": "1254ecb7-ef72-4587-b74b-7ac214033653",
   "metadata": {},
   "outputs": [
    {
     "data": {
      "text/plain": [
       "True"
      ]
     },
     "execution_count": 35,
     "metadata": {},
     "output_type": "execute_result"
    }
   ],
   "source": [
    "a != b"
   ]
  },
  {
   "cell_type": "code",
   "execution_count": 36,
   "id": "67257f29-7b5d-4588-8b07-a907f97c8679",
   "metadata": {},
   "outputs": [
    {
     "data": {
      "text/plain": [
       "True"
      ]
     },
     "execution_count": 36,
     "metadata": {},
     "output_type": "execute_result"
    }
   ],
   "source": [
    "(a * b) > b**2"
   ]
  },
  {
   "cell_type": "markdown",
   "id": "23c25b2e-d142-48d0-bda3-2a55dca3d012",
   "metadata": {},
   "source": [
    "##### Logical Operators: and or not"
   ]
  },
  {
   "cell_type": "code",
   "execution_count": 38,
   "id": "6708dbb7-b5a3-490e-971e-3790b654cd01",
   "metadata": {},
   "outputs": [
    {
     "data": {
      "text/plain": [
       "True"
      ]
     },
     "execution_count": 38,
     "metadata": {},
     "output_type": "execute_result"
    }
   ],
   "source": [
    "a * b != 100 and a * b <= 40"
   ]
  },
  {
   "cell_type": "code",
   "execution_count": 39,
   "id": "7373a4ed-2fe9-457b-b1bd-015dcf6791f8",
   "metadata": {},
   "outputs": [
    {
     "data": {
      "text/plain": [
       "True"
      ]
     },
     "execution_count": 39,
     "metadata": {},
     "output_type": "execute_result"
    }
   ],
   "source": [
    "a * b == 100 or a * b <= 40"
   ]
  },
  {
   "cell_type": "code",
   "execution_count": 40,
   "id": "d53f2d5f-195b-436f-bc3e-7f79d87ab41c",
   "metadata": {},
   "outputs": [
    {
     "data": {
      "text/plain": [
       "False"
      ]
     },
     "execution_count": 40,
     "metadata": {},
     "output_type": "execute_result"
    }
   ],
   "source": [
    "a * b == 100 or not(a * b <= 40)"
   ]
  },
  {
   "cell_type": "markdown",
   "id": "6e1d13ed-24ea-43e5-b983-25cf98db8cf2",
   "metadata": {},
   "source": [
    "### 1.3 Built in functions for numbers"
   ]
  },
  {
   "cell_type": "code",
   "execution_count": 41,
   "id": "1356fd51-088c-4cf0-a6ed-7a71ebe9ceae",
   "metadata": {},
   "outputs": [],
   "source": [
    "input = \"234\""
   ]
  },
  {
   "cell_type": "code",
   "execution_count": 42,
   "id": "1fef9efe-0e39-4f6d-b97a-0af82d055aa5",
   "metadata": {},
   "outputs": [
    {
     "ename": "TypeError",
     "evalue": "can only concatenate str (not \"int\") to str",
     "output_type": "error",
     "traceback": [
      "\u001b[1;31m---------------------------------------------------------------------------\u001b[0m",
      "\u001b[1;31mTypeError\u001b[0m                                 Traceback (most recent call last)",
      "Cell \u001b[1;32mIn[42], line 1\u001b[0m\n\u001b[1;32m----> 1\u001b[0m \u001b[38;5;28minput\u001b[39m \u001b[38;5;241m+\u001b[39m \u001b[38;5;241m6\u001b[39m\n",
      "\u001b[1;31mTypeError\u001b[0m: can only concatenate str (not \"int\") to str"
     ]
    }
   ],
   "source": [
    "input + 6"
   ]
  },
  {
   "cell_type": "code",
   "execution_count": 43,
   "id": "4da5f00a-4092-4422-a400-8fcaff6758dd",
   "metadata": {},
   "outputs": [
    {
     "data": {
      "text/plain": [
       "str"
      ]
     },
     "execution_count": 43,
     "metadata": {},
     "output_type": "execute_result"
    }
   ],
   "source": [
    "type(input)"
   ]
  },
  {
   "cell_type": "code",
   "execution_count": 44,
   "id": "a43de980-7abc-48a2-a230-dcc49f81fafa",
   "metadata": {},
   "outputs": [
    {
     "data": {
      "text/plain": [
       "240"
      ]
     },
     "execution_count": 44,
     "metadata": {},
     "output_type": "execute_result"
    }
   ],
   "source": [
    "int(input) + 6"
   ]
  },
  {
   "cell_type": "code",
   "execution_count": 45,
   "id": "a8b5329f-7417-4fb8-bf7d-6fde2fbacc61",
   "metadata": {},
   "outputs": [
    {
     "data": {
      "text/plain": [
       "268.0"
      ]
     },
     "execution_count": 45,
     "metadata": {},
     "output_type": "execute_result"
    }
   ],
   "source": [
    "float(input) + 34"
   ]
  },
  {
   "cell_type": "code",
   "execution_count": 46,
   "id": "3e730583-f129-4e6c-9a8e-6939679b62e6",
   "metadata": {},
   "outputs": [
    {
     "ename": "TypeError",
     "evalue": "'str' object cannot be interpreted as an integer",
     "output_type": "error",
     "traceback": [
      "\u001b[1;31m---------------------------------------------------------------------------\u001b[0m",
      "\u001b[1;31mTypeError\u001b[0m                                 Traceback (most recent call last)",
      "Cell \u001b[1;32mIn[46], line 1\u001b[0m\n\u001b[1;32m----> 1\u001b[0m \u001b[38;5;28mbin\u001b[39m(\u001b[38;5;28minput\u001b[39m)\n",
      "\u001b[1;31mTypeError\u001b[0m: 'str' object cannot be interpreted as an integer"
     ]
    }
   ],
   "source": [
    "bin(input)"
   ]
  },
  {
   "cell_type": "code",
   "execution_count": 47,
   "id": "5582711d-6baf-4557-ba6f-a3faa22cd5b7",
   "metadata": {},
   "outputs": [
    {
     "data": {
      "text/plain": [
       "'0b11101010'"
      ]
     },
     "execution_count": 47,
     "metadata": {},
     "output_type": "execute_result"
    }
   ],
   "source": [
    "bin(int(input))"
   ]
  },
  {
   "cell_type": "code",
   "execution_count": 48,
   "id": "f029ef41-7cc0-4f8a-9f81-f3c0a7e05be4",
   "metadata": {},
   "outputs": [
    {
     "ename": "TypeError",
     "evalue": "'str' object cannot be interpreted as an integer",
     "output_type": "error",
     "traceback": [
      "\u001b[1;31m---------------------------------------------------------------------------\u001b[0m",
      "\u001b[1;31mTypeError\u001b[0m                                 Traceback (most recent call last)",
      "Cell \u001b[1;32mIn[48], line 1\u001b[0m\n\u001b[1;32m----> 1\u001b[0m \u001b[38;5;28moct\u001b[39m(\u001b[38;5;28minput\u001b[39m)\n",
      "\u001b[1;31mTypeError\u001b[0m: 'str' object cannot be interpreted as an integer"
     ]
    }
   ],
   "source": [
    "oct(input)"
   ]
  },
  {
   "cell_type": "code",
   "execution_count": 49,
   "id": "901d78b7-a685-42f3-8bfb-aab9cc2ec8e2",
   "metadata": {},
   "outputs": [
    {
     "data": {
      "text/plain": [
       "'0o352'"
      ]
     },
     "execution_count": 49,
     "metadata": {},
     "output_type": "execute_result"
    }
   ],
   "source": [
    "oct(int(input))"
   ]
  },
  {
   "cell_type": "code",
   "execution_count": 50,
   "id": "1a606acb-92e1-42a3-a2ef-2246938b1e73",
   "metadata": {},
   "outputs": [],
   "source": [
    "s = '11011101'"
   ]
  },
  {
   "cell_type": "code",
   "execution_count": 51,
   "id": "36c02ae4-d6ed-4adb-afd9-b91fc369b4ad",
   "metadata": {},
   "outputs": [
    {
     "data": {
      "text/plain": [
       "11011101"
      ]
     },
     "execution_count": 51,
     "metadata": {},
     "output_type": "execute_result"
    }
   ],
   "source": [
    "int(s)"
   ]
  },
  {
   "cell_type": "code",
   "execution_count": 52,
   "id": "7c01adc4-f6c5-4b0b-8d8e-14082de6ed5e",
   "metadata": {},
   "outputs": [
    {
     "data": {
      "text/plain": [
       "221"
      ]
     },
     "execution_count": 52,
     "metadata": {},
     "output_type": "execute_result"
    }
   ],
   "source": [
    "int(s, base=2)"
   ]
  },
  {
   "cell_type": "code",
   "execution_count": 53,
   "id": "71914164-c385-4724-9829-d097111fd0fd",
   "metadata": {},
   "outputs": [
    {
     "data": {
      "text/plain": [
       "'0b11011101'"
      ]
     },
     "execution_count": 53,
     "metadata": {},
     "output_type": "execute_result"
    }
   ],
   "source": [
    "bin(221)"
   ]
  },
  {
   "cell_type": "code",
   "execution_count": 54,
   "id": "735ca40b-0896-4b92-9bb8-dbcfab5ed60c",
   "metadata": {},
   "outputs": [
    {
     "data": {
      "text/plain": [
       "16"
      ]
     },
     "execution_count": 54,
     "metadata": {},
     "output_type": "execute_result"
    }
   ],
   "source": [
    "pow(4, 2)"
   ]
  },
  {
   "cell_type": "code",
   "execution_count": 56,
   "id": "07c9e6fa-2a03-40b8-80f3-89cc9d0c8499",
   "metadata": {},
   "outputs": [
    {
     "data": {
      "text/plain": [
       "1.6666666666666667"
      ]
     },
     "execution_count": 56,
     "metadata": {},
     "output_type": "execute_result"
    }
   ],
   "source": [
    "n = 5 / 3\n",
    "n"
   ]
  },
  {
   "cell_type": "code",
   "execution_count": 57,
   "id": "8d1e9601-2666-49e4-958e-c18cf38ece93",
   "metadata": {},
   "outputs": [
    {
     "data": {
      "text/plain": [
       "2"
      ]
     },
     "execution_count": 57,
     "metadata": {},
     "output_type": "execute_result"
    }
   ],
   "source": [
    "round(n)"
   ]
  },
  {
   "cell_type": "code",
   "execution_count": 58,
   "id": "db99ee29-5b48-47db-aa7c-994b89f6c990",
   "metadata": {},
   "outputs": [
    {
     "data": {
      "text/plain": [
       "1.67"
      ]
     },
     "execution_count": 58,
     "metadata": {},
     "output_type": "execute_result"
    }
   ],
   "source": [
    "round(n, 2)"
   ]
  },
  {
   "cell_type": "code",
   "execution_count": 59,
   "id": "540f8f52-b16e-4134-9935-a81b0252dbb4",
   "metadata": {},
   "outputs": [
    {
     "data": {
      "text/plain": [
       "8"
      ]
     },
     "execution_count": 59,
     "metadata": {},
     "output_type": "execute_result"
    }
   ],
   "source": [
    "abs(13 - 5)"
   ]
  },
  {
   "cell_type": "code",
   "execution_count": 60,
   "id": "690a81a9-c7ba-493f-8dc3-71a67954dd26",
   "metadata": {},
   "outputs": [
    {
     "data": {
      "text/plain": [
       "8"
      ]
     },
     "execution_count": 60,
     "metadata": {},
     "output_type": "execute_result"
    }
   ],
   "source": [
    "abs(5 - 13)"
   ]
  },
  {
   "cell_type": "markdown",
   "id": "36216c12-f895-4f09-b53d-015a3090c3a8",
   "metadata": {},
   "source": [
    "### 1.4 Built in modules for numbers"
   ]
  },
  {
   "cell_type": "code",
   "execution_count": 61,
   "id": "1597a21b-a59e-4fb8-8b98-d26b2529714e",
   "metadata": {},
   "outputs": [],
   "source": [
    "a = 90"
   ]
  },
  {
   "cell_type": "code",
   "execution_count": 62,
   "id": "ee62e0cd-522e-4151-af0f-b654dec75ca3",
   "metadata": {},
   "outputs": [
    {
     "ename": "NameError",
     "evalue": "name 'sin' is not defined",
     "output_type": "error",
     "traceback": [
      "\u001b[1;31m---------------------------------------------------------------------------\u001b[0m",
      "\u001b[1;31mNameError\u001b[0m                                 Traceback (most recent call last)",
      "Cell \u001b[1;32mIn[62], line 1\u001b[0m\n\u001b[1;32m----> 1\u001b[0m sin(a)\n",
      "\u001b[1;31mNameError\u001b[0m: name 'sin' is not defined"
     ]
    }
   ],
   "source": [
    "sin(a)"
   ]
  },
  {
   "cell_type": "code",
   "execution_count": 63,
   "id": "90bb6fb6-6899-44c8-a70e-c0427abe8f24",
   "metadata": {},
   "outputs": [],
   "source": [
    "import math"
   ]
  },
  {
   "cell_type": "code",
   "execution_count": 64,
   "id": "3fbb752b-4ed6-4b4f-b88f-bc7d1005ac3a",
   "metadata": {},
   "outputs": [
    {
     "data": {
      "text/plain": [
       "0.8939966636005579"
      ]
     },
     "execution_count": 64,
     "metadata": {},
     "output_type": "execute_result"
    }
   ],
   "source": [
    "math.sin(a)"
   ]
  },
  {
   "cell_type": "code",
   "execution_count": 65,
   "id": "21a5495c-b4bc-4ecb-91fa-869cec2089cf",
   "metadata": {},
   "outputs": [
    {
     "data": {
      "text/plain": [
       "0.9999996829318346"
      ]
     },
     "execution_count": 65,
     "metadata": {},
     "output_type": "execute_result"
    }
   ],
   "source": [
    "math.sin(a * (3.14/180))"
   ]
  },
  {
   "cell_type": "code",
   "execution_count": 66,
   "id": "f0cb063b-3167-4c20-be79-a29d3ad36971",
   "metadata": {},
   "outputs": [
    {
     "data": {
      "text/plain": [
       "0.9999999999991198"
      ]
     },
     "execution_count": 66,
     "metadata": {},
     "output_type": "execute_result"
    }
   ],
   "source": [
    "math.sin(a * (3.14159/180))"
   ]
  },
  {
   "cell_type": "code",
   "execution_count": 67,
   "id": "16d15263-54e6-4890-9e0e-29ade0f745ff",
   "metadata": {},
   "outputs": [
    {
     "data": {
      "text/plain": [
       "1.0"
      ]
     },
     "execution_count": 67,
     "metadata": {},
     "output_type": "execute_result"
    }
   ],
   "source": [
    "math.sin(a * (math.pi/180))"
   ]
  },
  {
   "cell_type": "code",
   "execution_count": 68,
   "id": "8ed0a812-8526-4d34-a7ae-ff02e60908cf",
   "metadata": {},
   "outputs": [
    {
     "data": {
      "text/plain": [
       "1.0"
      ]
     },
     "execution_count": 68,
     "metadata": {},
     "output_type": "execute_result"
    }
   ],
   "source": [
    "math.sin(math.radians(a))"
   ]
  },
  {
   "cell_type": "code",
   "execution_count": 69,
   "id": "eb598923-d661-471c-97ce-a1194702c9fb",
   "metadata": {},
   "outputs": [],
   "source": [
    "import random"
   ]
  },
  {
   "cell_type": "code",
   "execution_count": 70,
   "id": "c68bb4c2-06b9-4293-b9f8-c7699f281cd7",
   "metadata": {},
   "outputs": [
    {
     "data": {
      "text/plain": [
       "50"
      ]
     },
     "execution_count": 70,
     "metadata": {},
     "output_type": "execute_result"
    }
   ],
   "source": [
    "random.randint(1, 100)"
   ]
  },
  {
   "cell_type": "code",
   "execution_count": 71,
   "id": "9db1aacc-69dd-4f43-845e-45f20f9b57de",
   "metadata": {},
   "outputs": [
    {
     "data": {
      "text/plain": [
       "65"
      ]
     },
     "execution_count": 71,
     "metadata": {},
     "output_type": "execute_result"
    }
   ],
   "source": [
    "random.randint(1, 100)"
   ]
  },
  {
   "cell_type": "code",
   "execution_count": 72,
   "id": "3fa43aeb-785e-4372-b022-06c1e771407d",
   "metadata": {},
   "outputs": [
    {
     "data": {
      "text/plain": [
       "21"
      ]
     },
     "execution_count": 72,
     "metadata": {},
     "output_type": "execute_result"
    }
   ],
   "source": [
    "random.randint(1, 100)"
   ]
  },
  {
   "cell_type": "code",
   "execution_count": 73,
   "id": "beef79c3-baa7-40bb-b894-bd72d83d6f40",
   "metadata": {},
   "outputs": [
    {
     "data": {
      "text/plain": [
       "14"
      ]
     },
     "execution_count": 73,
     "metadata": {},
     "output_type": "execute_result"
    }
   ],
   "source": [
    "random.randint(1, 100)"
   ]
  },
  {
   "cell_type": "code",
   "execution_count": 74,
   "id": "d3c97a0c-444f-48cb-9110-ec926ed351f3",
   "metadata": {},
   "outputs": [
    {
     "data": {
      "text/plain": [
       "1.2730679343983358"
      ]
     },
     "execution_count": 74,
     "metadata": {},
     "output_type": "execute_result"
    }
   ],
   "source": [
    "random.uniform(1, 10)"
   ]
  },
  {
   "cell_type": "code",
   "execution_count": 75,
   "id": "fca365e6-fbb6-4d72-813b-de887835661b",
   "metadata": {},
   "outputs": [
    {
     "data": {
      "text/plain": [
       "0.4372913344356514"
      ]
     },
     "execution_count": 75,
     "metadata": {},
     "output_type": "execute_result"
    }
   ],
   "source": [
    "random.random()"
   ]
  },
  {
   "cell_type": "markdown",
   "id": "119ec90f-7fec-4cbb-87c2-d4407b695020",
   "metadata": {},
   "source": [
    "### Exercises"
   ]
  },
  {
   "cell_type": "markdown",
   "id": "9b127d97-faef-4ae0-9c2a-c79122769e76",
   "metadata": {},
   "source": [
    "#### 1. Given temperature t in Celcius, write a python expression to convert into farenheit"
   ]
  },
  {
   "cell_type": "markdown",
   "id": "abcb72dd-27ba-428e-bbda-be7b8cc9ae13",
   "metadata": {},
   "source": [
    "#### 2. Given two points A(x1, y1) and B(x2, y2), calculate the straight line distance between them"
   ]
  },
  {
   "cell_type": "markdown",
   "id": "3c7e84e8-5750-4e5e-a60a-cf8459e6e45a",
   "metadata": {},
   "source": [
    "#### 3. Calculate the area of the triangle with threen given points A(x1, y1), B(x2, y2), C(x3, y3)"
   ]
  },
  {
   "cell_type": "code",
   "execution_count": null,
   "id": "c8e35045-9c94-424a-80df-6ce504de4a16",
   "metadata": {},
   "outputs": [],
   "source": []
  }
 ],
 "metadata": {
  "kernelspec": {
   "display_name": "Python 3 (ipykernel)",
   "language": "python",
   "name": "python3"
  },
  "language_info": {
   "codemirror_mode": {
    "name": "ipython",
    "version": 3
   },
   "file_extension": ".py",
   "mimetype": "text/x-python",
   "name": "python",
   "nbconvert_exporter": "python",
   "pygments_lexer": "ipython3",
   "version": "3.11.7"
  }
 },
 "nbformat": 4,
 "nbformat_minor": 5
}
